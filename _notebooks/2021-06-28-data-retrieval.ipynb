{
 "cells": [
  {
   "attachments": {},
   "cell_type": "markdown",
   "metadata": {},
   "source": [
    "# Downloading daily stock data\n",
    "\n",
    "My ambition is to build a fully automated trading system that:\n",
    "- Downloads the latest data\n",
    "- Performs some cleaning steps\n",
    "- Generates trading signals\n",
    "- Opens and closes positions in accordance with a risk management framework\n",
    "\n",
    "This system will be built step by step in a series of posts. As the list suggests, the first step is to update the database with the latest data when it is available. First, what database are we using?\n",
    "## Database\n",
    "There are many options when it comes to chosing a database. The most popular type of database for tabular data is a SQL database. This is due to their good performance and data structure. SQL databases are structured in a tabular fasion which is the same structure that pandas dataframes are structured. Noteworthy SQL databases are MariaDB, PostgreSQL and SQLite. However, a SQL database will not be used in this project for a number of reasons. Instead, a NOSQL database will be used. More specifically, [MongoDB](https://en.wikipedia.org/wiki/MongoDB). But, why? First let's address the pros and cons of SQL databases. It is true that they usually have good performance. This can be a deciding factor, but for small amounts of data (<50GB) there might not be any difference. NOSQL databases can be just as performant if queried correctly and if indicies are used. When it comes to the data structure, some restructuring of the data has to be performed before it can be inserted into a NOSQL database. But this is not a problem, many python libraries have functions such as `dataframe.to_dict(\"records\")` that easily converts tabular data into a list of dictionaries suited for NOSQL databases. These arguments cancel eachother out, and either database type could be used. The final con of SQL databases that tips the needle in favor of NOSQL databases is that the python libraries that are used to access SQL databases have terrible APIs. Not only that, setting up such a database is also a painful process that takes a lot of time if it is to be done right.\n",
    "## Imports and connections\n",
    "Now for the program used to download the data. The following imports and connections are going to be needed."
   ]
  },
  {
   "cell_type": "code",
   "execution_count": 9,
   "metadata": {},
   "outputs": [],
   "source": [
    "import yfinance as yf\n",
    "import pymongo\n",
    "from tqdm import tqdm\n",
    "from datetime import datetime\n",
    "import pandas as pd\n",
    "import borsdata_api as api\n",
    "\n",
    "api = api.BorsdataAPI(open(\"api.txt\", \"r\").read())  # Börsdata is used as data source\n",
    "client = pymongo.MongoClient('192.168.1.38', 27017) # MongoDB server connection\n",
    "daily = client.prod.daily                           # The collection used to store daily data"
   ]
  },
  {
   "cell_type": "markdown",
   "metadata": {},
   "source": [
    "## Defining aggregation query and getting the symbols\n",
    "It is important not to add duplicate data to the database. This can be solved by quering the database for all the dates that are already present in the database and then ignore these dates when adding the new data. This can be done with the following MongoDB aggregation query. It essencially matches the wanted stock symbol and then creates a list with all the dates.<br><br>\n",
    "This cell also contains the query for all the stock symbols. These are stored in a separate collection called `stock_info`. The list of symbols returned will be used to tell the API what stocks to download."
   ]
  },
  {
   "cell_type": "code",
   "execution_count": 11,
   "metadata": {},
   "outputs": [
    {
     "name": "stdout",
     "output_type": "stream",
     "text": [
      "Number of symbols: 1780\n"
     ]
    }
   ],
   "source": [
    "aggreg_query = [\n",
    "            {\n",
    "                '$match': {'symbol': None}\n",
    "            }, {\n",
    "                '$group': {\n",
    "                    '_id': '$symbol', \n",
    "                        'index': {'$push': '$date'}\n",
    "                    }\n",
    "                }\n",
    "            ]\n",
    "symbols = [(stock[\"yahoo\"], stock[\"insId\"]) for stock in client.prod.stock_info.find()]\n",
    "print(\"Number of symbols:\", len(symbols))"
   ]
  },
  {
   "cell_type": "markdown",
   "metadata": {},
   "source": [
    "## Download loop\n",
    "This is where the magic happens. This for-loop loops through the list of symbols previously retrieved and performs these steps:\n",
    "- Downloads the data.\n",
    "- Removes rows with NaN values.\n",
    "- Detaches the index (dates) and adds it as a column.\n",
    "- Makes all the column names lowercase.\n",
    "- Adds the symbol to every row. This is an important field for when every row becomes a document.\n",
    "- Adds the date and time when the data was retrieved.\n",
    "- Adds a string as the primary key. This a second security measure to prevents the adding of the same date twice to the database.\n",
    "- Removes the already present rows from the data we are going to add to the database. This uses the abovementioned aggregation query.\n",
    "- Finally, it converts the tabular data to documents (dictionaries) and inserts them into the database.\n",
    "\n",
    "This loop may take a long time to finish. Especially when the number of stocks is large. Some APIs might stop giving you data by blocking your requests a long time before all the symbols have been looped through. This is one of the reasons by [Börsdata](https://borsdata.se/) is used. Although it is a payed service, it does not limit the number of requests. If this is not an option for you, YahooFinance's API can be used. The pros are that they have all the stocks you could ever want and are free, but they start blocking requests after a couple of hundred queries."
   ]
  },
  {
   "cell_type": "code",
   "execution_count": null,
   "metadata": {},
   "outputs": [],
   "source": [
    "progress = tqdm(symbols)\n",
    "for symbol, insId in progress:\n",
    "    progress.set_description(symbol) # Set progress bar description\n",
    "    \n",
    "    df = api.get_instrument_stock_prices(insId) # Download the data\n",
    "    #df = data[symbol]\n",
    "    df = df.dropna()\n",
    "    df.reset_index(level=0, inplace=True)\n",
    "    df.columns = [column.lower() for column in df.columns]\n",
    "    df[\"symbol\"] = symbol\n",
    "    df[\"updated\"] = datetime.now()\n",
    "    df[\"_id\"] = df[\"symbol\"] + \":\" + df[\"date\"].astype(str)\n",
    "\n",
    "    aggreg_query[0][\"$match\"][\"symbol\"] = symbol\n",
    "    index = list(daily.aggregate(aggreg_query))\n",
    "    if len(index)>0: # Check if stock already in db\n",
    "        index=index[0]\n",
    "        index = pd.Series(index[\"index\"])\n",
    "        df = df[~df['date'].isin(index)] # Ignoring indicies already in db\n",
    "        \n",
    "    if len(df)>0:\n",
    "        daily.insert_many(df.to_dict('records'))"
   ]
  },
  {
   "cell_type": "markdown",
   "metadata": {},
   "source": [
    "## Cronjob\n",
    "To make the data retrieval automatic it has to be scheduled. This can easily be done using cronjob on linux machines. The following script will be made into a [cronjob](https://en.wikipedia.org/wiki/Cron) and this parameter will be added to the crontab `0 18 * * 1-5 data_downloader/daily_downloader.py`. The parameter means that the command should be run every weekday at 18 o'clock."
   ]
  },
  {
   "cell_type": "code",
   "execution_count": null,
   "metadata": {},
   "outputs": [],
   "source": [
    "# daily_downloader.py\n",
    "#----------------------------------------------------------------------------\n",
    "\n",
    "#!data_downloader/env/bin/python\n",
    "import yfinance as yf\n",
    "import pymongo\n",
    "from tqdm import tqdm\n",
    "from datetime import datetime\n",
    "import pandas as pd\n",
    "import borsdata_api as api\n",
    "\n",
    "api = api.BorsdataAPI(open(\"api.txt\", \"r\").read())  # Börsdata is used as data source\n",
    "client = pymongo.MongoClient('192.168.1.38', 27017) # MongoDB server connection\n",
    "daily = client.prod.daily                           # The collection used to store daily data\n",
    "\n",
    "aggreg_query = [\n",
    "            {\n",
    "                '$match': {'symbol': None}\n",
    "            }, {\n",
    "                '$group': {\n",
    "                    '_id': '$symbol', \n",
    "                        'index': {'$push': '$date'}\n",
    "                    }\n",
    "                }\n",
    "            ]\n",
    "\n",
    "symbols = [(stock[\"yahoo\"], stock[\"insId\"]) for stock in client.prod.stock_info.find()]\n",
    "print(\"Number of symbols:\", len(symbols))\n",
    "progress = tqdm(symbols)\n",
    "for symbol, insId in progress:\n",
    "    progress.set_description(symbol) # Set progress bar description\n",
    "    \n",
    "    df = api.get_instrument_stock_prices(insId) # Download the data\n",
    "    #df = data[symbol]\n",
    "    df = df.dropna()\n",
    "    df.reset_index(level=0, inplace=True)\n",
    "    df.columns = [column.lower() for column in df.columns]\n",
    "    df[\"symbol\"] = symbol\n",
    "    df[\"updated\"] = datetime.now()\n",
    "    df[\"_id\"] = df[\"symbol\"] + \":\" + df[\"date\"].astype(str)\n",
    "\n",
    "    aggreg_query[0][\"$match\"][\"symbol\"] = symbol\n",
    "    index = list(daily.aggregate(aggreg_query))\n",
    "    if len(index)>0: # Check if stock already in db\n",
    "        index=index[0]\n",
    "        index = pd.Series(index[\"index\"])\n",
    "        df = df[~df['date'].isin(index)] # Ignoring indicies already in db\n",
    "        \n",
    "    if len(df)>0:\n",
    "        daily.insert_many(df.to_dict('records'))"
   ]
  }
 ],
 "metadata": {
  "interpreter": {
   "hash": "aee8b7b246df8f9039afb4144a1f6fd8d2ca17a180786b69acc140d282b71a49"
  },
  "kernelspec": {
   "display_name": "Python 3.9.5 64-bit",
   "name": "python3"
  },
  "language_info": {
   "name": "python",
   "version": ""
  }
 },
 "nbformat": 4,
 "nbformat_minor": 5
}
